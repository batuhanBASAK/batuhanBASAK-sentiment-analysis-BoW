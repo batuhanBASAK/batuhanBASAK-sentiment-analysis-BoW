{
 "cells": [
  {
   "cell_type": "markdown",
   "metadata": {},
   "source": [
    "# Training The Model"
   ]
  },
  {
   "cell_type": "code",
   "execution_count": 1,
   "metadata": {},
   "outputs": [],
   "source": [
    "import numpy as np\n",
    "import pandas as pd\n",
    "\n",
    "from BoW import BoW"
   ]
  },
  {
   "cell_type": "markdown",
   "metadata": {},
   "source": [
    "## Loading data frame"
   ]
  },
  {
   "cell_type": "code",
   "execution_count": 2,
   "metadata": {},
   "outputs": [
    {
     "data": {
      "text/html": [
       "<div>\n",
       "<style scoped>\n",
       "    .dataframe tbody tr th:only-of-type {\n",
       "        vertical-align: middle;\n",
       "    }\n",
       "\n",
       "    .dataframe tbody tr th {\n",
       "        vertical-align: top;\n",
       "    }\n",
       "\n",
       "    .dataframe thead th {\n",
       "        text-align: right;\n",
       "    }\n",
       "</style>\n",
       "<table border=\"1\" class=\"dataframe\">\n",
       "  <thead>\n",
       "    <tr style=\"text-align: right;\">\n",
       "      <th></th>\n",
       "      <th>id</th>\n",
       "      <th>entity</th>\n",
       "      <th>sentiment</th>\n",
       "      <th>tweet</th>\n",
       "      <th>preprocessed_tweet</th>\n",
       "    </tr>\n",
       "  </thead>\n",
       "  <tbody>\n",
       "    <tr>\n",
       "      <th>0</th>\n",
       "      <td>2401</td>\n",
       "      <td>Borderlands</td>\n",
       "      <td>Positive</td>\n",
       "      <td>im getting on borderlands and i will murder yo...</td>\n",
       "      <td>I m get borderland murder ,</td>\n",
       "    </tr>\n",
       "    <tr>\n",
       "      <th>1</th>\n",
       "      <td>2401</td>\n",
       "      <td>Borderlands</td>\n",
       "      <td>Positive</td>\n",
       "      <td>I am coming to the borders and I will kill you...</td>\n",
       "      <td>come border kill ,</td>\n",
       "    </tr>\n",
       "    <tr>\n",
       "      <th>2</th>\n",
       "      <td>2401</td>\n",
       "      <td>Borderlands</td>\n",
       "      <td>Positive</td>\n",
       "      <td>im getting on borderlands and i will kill you ...</td>\n",
       "      <td>I m get borderland kill ,</td>\n",
       "    </tr>\n",
       "    <tr>\n",
       "      <th>3</th>\n",
       "      <td>2401</td>\n",
       "      <td>Borderlands</td>\n",
       "      <td>Positive</td>\n",
       "      <td>im coming on borderlands and i will murder you...</td>\n",
       "      <td>I m come borderland murder ,</td>\n",
       "    </tr>\n",
       "    <tr>\n",
       "      <th>4</th>\n",
       "      <td>2401</td>\n",
       "      <td>Borderlands</td>\n",
       "      <td>Positive</td>\n",
       "      <td>im getting on borderlands 2 and i will murder ...</td>\n",
       "      <td>I m get borderland 2 murder ,</td>\n",
       "    </tr>\n",
       "  </tbody>\n",
       "</table>\n",
       "</div>"
      ],
      "text/plain": [
       "     id       entity sentiment  \\\n",
       "0  2401  Borderlands  Positive   \n",
       "1  2401  Borderlands  Positive   \n",
       "2  2401  Borderlands  Positive   \n",
       "3  2401  Borderlands  Positive   \n",
       "4  2401  Borderlands  Positive   \n",
       "\n",
       "                                               tweet  \\\n",
       "0  im getting on borderlands and i will murder yo...   \n",
       "1  I am coming to the borders and I will kill you...   \n",
       "2  im getting on borderlands and i will kill you ...   \n",
       "3  im coming on borderlands and i will murder you...   \n",
       "4  im getting on borderlands 2 and i will murder ...   \n",
       "\n",
       "              preprocessed_tweet  \n",
       "0    I m get borderland murder ,  \n",
       "1             come border kill ,  \n",
       "2      I m get borderland kill ,  \n",
       "3   I m come borderland murder ,  \n",
       "4  I m get borderland 2 murder ,  "
      ]
     },
     "execution_count": 2,
     "metadata": {},
     "output_type": "execute_result"
    }
   ],
   "source": [
    "df = pd.read_csv('data.csv', encoding='utf-8')\n",
    "\n",
    "df.head()"
   ]
  },
  {
   "cell_type": "markdown",
   "metadata": {},
   "source": [
    "## Creating Model"
   ]
  },
  {
   "cell_type": "code",
   "execution_count": 3,
   "metadata": {},
   "outputs": [],
   "source": [
    "model = BoW()"
   ]
  },
  {
   "cell_type": "markdown",
   "metadata": {},
   "source": [
    "### Remove missing values"
   ]
  },
  {
   "cell_type": "code",
   "execution_count": 4,
   "metadata": {},
   "outputs": [
    {
     "data": {
      "text/plain": [
       "id                       0\n",
       "entity                   0\n",
       "sentiment                0\n",
       "tweet                    0\n",
       "preprocessed_tweet    1183\n",
       "dtype: int64"
      ]
     },
     "execution_count": 4,
     "metadata": {},
     "output_type": "execute_result"
    }
   ],
   "source": [
    "df.isna().sum()"
   ]
  },
  {
   "cell_type": "code",
   "execution_count": 5,
   "metadata": {},
   "outputs": [],
   "source": [
    "df.dropna(inplace=True)"
   ]
  },
  {
   "cell_type": "code",
   "execution_count": 6,
   "metadata": {},
   "outputs": [
    {
     "data": {
      "text/plain": [
       "<Axes: ylabel='count'>"
      ]
     },
     "execution_count": 6,
     "metadata": {},
     "output_type": "execute_result"
    },
    {
     "data": {
      "image/png": "[encoded data removed]",
      "text/plain": [
       "<Figure size 640x480 with 1 Axes>"
      ]
     },
     "metadata": {},
     "output_type": "display_data"
    }
   ],
   "source": [
    "df['sentiment'].value_counts().plot(kind='pie')"
   ]
  },
  {
   "cell_type": "markdown",
   "metadata": {},
   "source": [
    "## Train the model"
   ]
  },
  {
   "cell_type": "code",
   "execution_count": 7,
   "metadata": {},
   "outputs": [
    {
     "name": "stdout",
     "output_type": "stream",
     "text": [
      "\n",
      "Creating training and testing datasets...\n",
      "\n",
      "Training...\n",
      "\n",
      "Performing cross-validation for RandomForest...\n",
      "Fitting 5 folds for each of 12 candidates, totalling 60 fits\n",
      "[CV] END ....................max_depth=None, n_estimators=50; total time=  47.4s\n",
      "[CV] END ....................max_depth=None, n_estimators=50; total time=  47.3s\n",
      "[CV] END ....................max_depth=None, n_estimators=50; total time=  47.4s\n",
      "[CV] END ....................max_depth=None, n_estimators=50; total time=  47.9s\n",
      "[CV] END ....................max_depth=None, n_estimators=50; total time=  47.9s\n",
      "[CV] END ...................max_depth=None, n_estimators=100; total time= 1.6min\n",
      "[CV] END ...................max_depth=None, n_estimators=100; total time= 1.6min\n",
      "[CV] END ...................max_depth=None, n_estimators=100; total time= 1.7min\n",
      "[CV] END ......................max_depth=10, n_estimators=50; total time=   2.4s\n",
      "[CV] END ......................max_depth=10, n_estimators=50; total time=   2.3s\n",
      "[CV] END ......................max_depth=10, n_estimators=50; total time=   2.4s\n",
      "[CV] END ......................max_depth=10, n_estimators=50; total time=   2.3s\n",
      "[CV] END ......................max_depth=10, n_estimators=50; total time=   2.4s\n",
      "[CV] END .....................max_depth=10, n_estimators=100; total time=   4.5s\n",
      "[CV] END .....................max_depth=10, n_estimators=100; total time=   4.8s\n",
      "[CV] END .....................max_depth=10, n_estimators=100; total time=   4.6s\n",
      "[CV] END .....................max_depth=10, n_estimators=100; total time=   4.8s\n",
      "[CV] END .....................max_depth=10, n_estimators=100; total time=   4.5s\n",
      "[CV] END .....................max_depth=10, n_estimators=200; total time=   9.9s\n",
      "[CV] END ...................max_depth=None, n_estimators=100; total time= 1.7min\n",
      "[CV] END ...................max_depth=None, n_estimators=100; total time= 1.7min\n",
      "[CV] END .....................max_depth=10, n_estimators=200; total time=   9.8s\n",
      "[CV] END .....................max_depth=10, n_estimators=200; total time=   9.5s\n",
      "[CV] END .....................max_depth=10, n_estimators=200; total time=   9.5s\n",
      "[CV] END ......................max_depth=20, n_estimators=50; total time=   4.8s\n",
      "[CV] END .....................max_depth=10, n_estimators=200; total time=   9.4s\n",
      "[CV] END ......................max_depth=20, n_estimators=50; total time=   4.8s\n",
      "[CV] END ......................max_depth=20, n_estimators=50; total time=   4.8s\n",
      "[CV] END ......................max_depth=20, n_estimators=50; total time=   4.8s\n",
      "[CV] END ......................max_depth=20, n_estimators=50; total time=   4.7s\n",
      "[CV] END .....................max_depth=20, n_estimators=100; total time=   9.4s\n",
      "[CV] END .....................max_depth=20, n_estimators=100; total time=   9.4s\n",
      "[CV] END .....................max_depth=20, n_estimators=100; total time=   9.5s\n",
      "[CV] END .....................max_depth=20, n_estimators=100; total time=   9.6s\n",
      "[CV] END .....................max_depth=20, n_estimators=100; total time=   9.5s\n",
      "[CV] END .....................max_depth=20, n_estimators=200; total time=  19.0s\n",
      "[CV] END .....................max_depth=20, n_estimators=200; total time=  18.7s\n",
      "[CV] END .....................max_depth=20, n_estimators=200; total time=  18.9s\n",
      "[CV] END ......................max_depth=30, n_estimators=50; total time=   7.2s\n",
      "[CV] END .....................max_depth=20, n_estimators=200; total time=  18.2s\n",
      "[CV] END ......................max_depth=30, n_estimators=50; total time=   7.4s\n",
      "[CV] END ......................max_depth=30, n_estimators=50; total time=   7.2s\n",
      "[CV] END .....................max_depth=20, n_estimators=200; total time=  18.4s\n",
      "[CV] END ......................max_depth=30, n_estimators=50; total time=   7.2s\n",
      "[CV] END ......................max_depth=30, n_estimators=50; total time=   7.3s\n",
      "[CV] END .....................max_depth=30, n_estimators=100; total time=  14.4s\n",
      "[CV] END .....................max_depth=30, n_estimators=100; total time=  14.4s\n",
      "[CV] END .....................max_depth=30, n_estimators=100; total time=  14.5s\n",
      "[CV] END ...................max_depth=None, n_estimators=200; total time= 3.4min\n"
     ]
    },
    {
     "name": "stderr",
     "output_type": "stream",
     "text": [
      "/Users/batuhanbasak/Development/sentiment-analysis-BoW/virtual-env/lib/python3.10/site-packages/joblib/externals/loky/process_executor.py:752: UserWarning: A worker stopped while some jobs were given to the executor. This can be caused by a too short worker timeout or by a memory leak.\n",
      "  warnings.warn(\n"
     ]
    },
    {
     "name": "stdout",
     "output_type": "stream",
     "text": [
      "[CV] END ...................max_depth=None, n_estimators=200; total time= 3.4min\n",
      "[CV] END ...................max_depth=None, n_estimators=200; total time= 3.4min\n",
      "[CV] END .....................max_depth=30, n_estimators=100; total time=  14.5s\n",
      "[CV] END .....................max_depth=30, n_estimators=100; total time=  14.5s\n",
      "[CV] END .....................max_depth=30, n_estimators=200; total time=  28.1s\n",
      "[CV] END .....................max_depth=30, n_estimators=200; total time=  27.0s\n",
      "[CV] END .....................max_depth=30, n_estimators=200; total time=  27.2s\n",
      "[CV] END .....................max_depth=30, n_estimators=200; total time=  26.7s\n",
      "[CV] END .....................max_depth=30, n_estimators=200; total time=  26.7s\n",
      "[CV] END ...................max_depth=None, n_estimators=200; total time= 3.2min\n",
      "[CV] END ...................max_depth=None, n_estimators=200; total time= 3.2min\n",
      "Best parameters for RandomForest: {'max_depth': None, 'n_estimators': 200}\n",
      "Best cross-validation score for RandomForest: 0.92\n",
      "\n",
      "Performing cross-validation for KNN...\n",
      "Fitting 5 folds for each of 8 candidates, totalling 40 fits\n",
      "[CV] END .....................n_neighbors=3, weights=uniform; total time=  20.0s\n",
      "[CV] END ....................n_neighbors=3, weights=distance; total time=  20.6s\n",
      "[CV] END ....................n_neighbors=3, weights=distance; total time=  20.9s\n",
      "[CV] END .....................n_neighbors=3, weights=uniform; total time=  21.4s\n",
      "[CV] END ....................n_neighbors=3, weights=distance; total time=  21.6s\n",
      "[CV] END .....................n_neighbors=3, weights=uniform; total time=  23.1s\n",
      "[CV] END .....................n_neighbors=3, weights=uniform; total time=  23.1s\n",
      "[CV] END .....................n_neighbors=3, weights=uniform; total time=  23.2s\n",
      "[CV] END ....................n_neighbors=3, weights=distance; total time=  14.2s\n",
      "[CV] END ....................n_neighbors=3, weights=distance; total time=  13.6s\n",
      "[CV] END .....................n_neighbors=5, weights=uniform; total time=  18.0s\n",
      "[CV] END .....................n_neighbors=5, weights=uniform; total time=  16.6s\n",
      "[CV] END .....................n_neighbors=5, weights=uniform; total time=  18.0s\n",
      "[CV] END .....................n_neighbors=5, weights=uniform; total time=  19.6s\n",
      "[CV] END ....................n_neighbors=5, weights=distance; total time=  18.5s\n",
      "[CV] END .....................n_neighbors=5, weights=uniform; total time=  20.2s\n",
      "[CV] END ....................n_neighbors=5, weights=distance; total time=  14.6s\n",
      "[CV] END ....................n_neighbors=5, weights=distance; total time=  14.2s\n",
      "[CV] END ....................n_neighbors=5, weights=distance; total time=  19.4s\n",
      "[CV] END ....................n_neighbors=5, weights=distance; total time=  15.2s\n",
      "[CV] END .....................n_neighbors=7, weights=uniform; total time=  15.7s\n",
      "[CV] END .....................n_neighbors=7, weights=uniform; total time=  15.9s\n",
      "[CV] END .....................n_neighbors=7, weights=uniform; total time=  17.2s\n",
      "[CV] END .....................n_neighbors=7, weights=uniform; total time=  17.2s\n",
      "[CV] END .....................n_neighbors=7, weights=uniform; total time=  14.5s\n",
      "[CV] END ....................n_neighbors=7, weights=distance; total time=  15.7s\n",
      "[CV] END ....................n_neighbors=7, weights=distance; total time=  15.3s\n",
      "[CV] END ....................n_neighbors=7, weights=distance; total time=  17.5s\n",
      "[CV] END ....................n_neighbors=7, weights=distance; total time=  18.2s\n",
      "[CV] END ....................n_neighbors=7, weights=distance; total time=  18.9s\n",
      "[CV] END .....................n_neighbors=9, weights=uniform; total time=  16.7s\n",
      "[CV] END .....................n_neighbors=9, weights=uniform; total time=  18.3s\n",
      "[CV] END .....................n_neighbors=9, weights=uniform; total time=  16.6s\n",
      "[CV] END .....................n_neighbors=9, weights=uniform; total time=  15.4s\n",
      "[CV] END .....................n_neighbors=9, weights=uniform; total time=  15.8s\n",
      "[CV] END ....................n_neighbors=9, weights=distance; total time=  13.3s\n",
      "[CV] END ....................n_neighbors=9, weights=distance; total time=  11.0s\n",
      "[CV] END ....................n_neighbors=9, weights=distance; total time=  10.9s\n",
      "[CV] END ....................n_neighbors=9, weights=distance; total time=  11.7s\n",
      "[CV] END ....................n_neighbors=9, weights=distance; total time=  10.3s\n",
      "Best parameters for KNN: {'n_neighbors': 3, 'weights': 'distance'}\n",
      "Best cross-validation score for KNN: 0.90\n",
      "\n",
      "Performing cross-validation for NaiveBayes...\n",
      "Fitting 5 folds for each of 3 candidates, totalling 15 fits\n",
      "[CV] END ..........................................alpha=0.1; total time=   0.1s\n",
      "[CV] END ..........................................alpha=0.1; total time=   0.1s\n",
      "[CV] END ..........................................alpha=0.1; total time=   0.1s\n",
      "[CV] END ..........................................alpha=0.1; total time=   0.1s\n",
      "[CV] END ..........................................alpha=1.0; total time=   0.1s\n",
      "[CV] END ..........................................alpha=0.1; total time=   0.1s\n",
      "[CV] END ..........................................alpha=1.0; total time=   0.1s\n",
      "[CV] END ..........................................alpha=1.0; total time=   0.1s\n",
      "[CV] END ..........................................alpha=1.0; total time=   0.1s\n",
      "[CV] END ..........................................alpha=1.0; total time=   0.1s\n",
      "[CV] END .........................................alpha=10.0; total time=   0.1s\n",
      "[CV] END .........................................alpha=10.0; total time=   0.1s\n",
      "[CV] END .........................................alpha=10.0; total time=   0.1s\n",
      "[CV] END .........................................alpha=10.0; total time=   0.1s\n",
      "[CV] END .........................................alpha=10.0; total time=   0.1s\n",
      "Best parameters for NaiveBayes: {'alpha': 0.1}\n",
      "Best cross-validation score for NaiveBayes: 0.81\n",
      "\n",
      "Best model: RandomForest with score: 0.92\n",
      "\n",
      "Test Accuracy: 0.94\n",
      "Classification Report:\n",
      "              precision    recall  f1-score   support\n",
      "\n",
      "    Negative       0.93      0.95      0.94      4451\n",
      "     Neutral       0.95      0.92      0.93      3557\n",
      "    Positive       0.93      0.94      0.93      3980\n",
      "\n",
      "    accuracy                           0.94     11988\n",
      "   macro avg       0.94      0.94      0.94     11988\n",
      "weighted avg       0.94      0.94      0.94     11988\n",
      "\n"
     ]
    }
   ],
   "source": [
    "X = df['preprocessed_tweet']\n",
    "y = df['sentiment']\n",
    "model.train(X, y)"
   ]
  },
  {
   "cell_type": "markdown",
   "metadata": {},
   "source": [
    "## Save model to a file"
   ]
  },
  {
   "cell_type": "code",
   "execution_count": 8,
   "metadata": {},
   "outputs": [
    {
     "name": "stdout",
     "output_type": "stream",
     "text": [
      "Model saved to the_model.pkl\n"
     ]
    }
   ],
   "source": [
    "model.save_to_file('the_model.pkl')"
   ]
  },
  {
   "cell_type": "markdown",
   "metadata": {},
   "source": [
    "## Load model from file"
   ]
  },
  {
   "cell_type": "code",
   "execution_count": 9,
   "metadata": {},
   "outputs": [
    {
     "name": "stdout",
     "output_type": "stream",
     "text": [
      "Model loaded from the_model.pkl\n"
     ]
    }
   ],
   "source": [
    "model = BoW()\n",
    "model.load_from_file('the_model.pkl')"
   ]
  },
  {
   "cell_type": "markdown",
   "metadata": {},
   "source": [
    "## Evaluate the model with validation dataset"
   ]
  },
  {
   "cell_type": "code",
   "execution_count": 10,
   "metadata": {},
   "outputs": [
    {
     "data": {
      "text/html": [
       "<div>\n",
       "<style scoped>\n",
       "    .dataframe tbody tr th:only-of-type {\n",
       "        vertical-align: middle;\n",
       "    }\n",
       "\n",
       "    .dataframe tbody tr th {\n",
       "        vertical-align: top;\n",
       "    }\n",
       "\n",
       "    .dataframe thead th {\n",
       "        text-align: right;\n",
       "    }\n",
       "</style>\n",
       "<table border=\"1\" class=\"dataframe\">\n",
       "  <thead>\n",
       "    <tr style=\"text-align: right;\">\n",
       "      <th></th>\n",
       "      <th>id</th>\n",
       "      <th>entity</th>\n",
       "      <th>sentiment</th>\n",
       "      <th>tweet</th>\n",
       "    </tr>\n",
       "  </thead>\n",
       "  <tbody>\n",
       "    <tr>\n",
       "      <th>0</th>\n",
       "      <td>3364</td>\n",
       "      <td>Facebook</td>\n",
       "      <td>Irrelevant</td>\n",
       "      <td>I mentioned on Facebook that I was struggling ...</td>\n",
       "    </tr>\n",
       "    <tr>\n",
       "      <th>1</th>\n",
       "      <td>352</td>\n",
       "      <td>Amazon</td>\n",
       "      <td>Neutral</td>\n",
       "      <td>BBC News - Amazon boss Jeff Bezos rejects clai...</td>\n",
       "    </tr>\n",
       "    <tr>\n",
       "      <th>2</th>\n",
       "      <td>8312</td>\n",
       "      <td>Microsoft</td>\n",
       "      <td>Negative</td>\n",
       "      <td>@Microsoft Why do I pay for WORD when it funct...</td>\n",
       "    </tr>\n",
       "    <tr>\n",
       "      <th>3</th>\n",
       "      <td>4371</td>\n",
       "      <td>CS-GO</td>\n",
       "      <td>Negative</td>\n",
       "      <td>CSGO matchmaking is so full of closet hacking,...</td>\n",
       "    </tr>\n",
       "    <tr>\n",
       "      <th>4</th>\n",
       "      <td>4433</td>\n",
       "      <td>Google</td>\n",
       "      <td>Neutral</td>\n",
       "      <td>Now the President is slapping Americans in the...</td>\n",
       "    </tr>\n",
       "  </tbody>\n",
       "</table>\n",
       "</div>"
      ],
      "text/plain": [
       "     id     entity   sentiment  \\\n",
       "0  3364   Facebook  Irrelevant   \n",
       "1   352     Amazon     Neutral   \n",
       "2  8312  Microsoft    Negative   \n",
       "3  4371      CS-GO    Negative   \n",
       "4  4433     Google     Neutral   \n",
       "\n",
       "                                               tweet  \n",
       "0  I mentioned on Facebook that I was struggling ...  \n",
       "1  BBC News - Amazon boss Jeff Bezos rejects clai...  \n",
       "2  @Microsoft Why do I pay for WORD when it funct...  \n",
       "3  CSGO matchmaking is so full of closet hacking,...  \n",
       "4  Now the President is slapping Americans in the...  "
      ]
     },
     "execution_count": 10,
     "metadata": {},
     "output_type": "execute_result"
    }
   ],
   "source": [
    "column_names = ['id', 'entity', 'sentiment', 'tweet']\n",
    "df = pd.read_csv('./dataset/twitter_validation.csv', names=column_names)\n",
    "df.head()"
   ]
  },
  {
   "cell_type": "code",
   "execution_count": 11,
   "metadata": {},
   "outputs": [],
   "source": [
    "df = df.loc[df['sentiment'] != 'Irrelevant']"
   ]
  },
  {
   "cell_type": "code",
   "execution_count": 12,
   "metadata": {},
   "outputs": [
    {
     "data": {
      "text/plain": [
       "id           0\n",
       "entity       0\n",
       "sentiment    0\n",
       "tweet        0\n",
       "dtype: int64"
      ]
     },
     "execution_count": 12,
     "metadata": {},
     "output_type": "execute_result"
    }
   ],
   "source": [
    "df.isna().sum()"
   ]
  },
  {
   "cell_type": "code",
   "execution_count": 13,
   "metadata": {},
   "outputs": [
    {
     "name": "stderr",
     "output_type": "stream",
     "text": [
      "[nltk_data] Downloading package punkt to\n",
      "[nltk_data]     /Users/batuhanbasak/nltk_data...\n",
      "[nltk_data]   Package punkt is already up-to-date!\n",
      "[nltk_data] Downloading package punkt_tab to\n",
      "[nltk_data]     /Users/batuhanbasak/nltk_data...\n",
      "[nltk_data]   Package punkt_tab is already up-to-date!\n",
      "[nltk_data] Downloading package stopwords to\n",
      "[nltk_data]     /Users/batuhanbasak/nltk_data...\n",
      "[nltk_data]   Package stopwords is already up-to-date!\n"
     ]
    },
    {
     "name": "stdout",
     "output_type": "stream",
     "text": [
      "\n",
      "Preprocessing tweets...\n"
     ]
    },
    {
     "name": "stderr",
     "output_type": "stream",
     "text": [
      "100%|██████████| 828/828 [00:02<00:00, 375.40it/s]\n"
     ]
    }
   ],
   "source": [
    "from preprocessing import preprocess_text\n",
    "from tqdm import tqdm\n",
    "\n",
    "print('\\nPreprocessing tweets...')\n",
    "df['preprocessed_tweet'] = [preprocess_text(text) for text in tqdm(df['tweet'])]"
   ]
  },
  {
   "cell_type": "code",
   "execution_count": 14,
   "metadata": {},
   "outputs": [],
   "source": [
    "X_val = df['preprocessed_tweet']\n",
    "y_val = df['sentiment']\n",
    "\n",
    "y_pred = model.predict(X_val)"
   ]
  },
  {
   "cell_type": "code",
   "execution_count": 15,
   "metadata": {},
   "outputs": [
    {
     "name": "stdout",
     "output_type": "stream",
     "text": [
      "Validation Accuracy: 0.97\n"
     ]
    }
   ],
   "source": [
    "from sklearn.metrics import accuracy_score\n",
    "accuracy = accuracy_score(y_val, y_pred)\n",
    "print(f\"Validation Accuracy: {accuracy:.2f}\")"
   ]
  }
 ],
 "metadata": {
  "kernelspec": {
   "display_name": "virtual-env",
   "language": "python",
   "name": "python3"
  },
  "language_info": {
   "codemirror_mode": {
    "name": "ipython",
    "version": 3
   },
   "file_extension": ".py",
   "mimetype": "text/x-python",
   "name": "python",
   "nbconvert_exporter": "python",
   "pygments_lexer": "ipython3",
   "version": "3.10.16"
  }
 },
 "nbformat": 4,
 "nbformat_minor": 2
}
